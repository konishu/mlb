{
 "cells": [
  {
   "cell_type": "code",
   "execution_count": 5,
   "metadata": {},
   "outputs": [],
   "source": [
    "import statsapi"
   ]
  },
  {
   "cell_type": "code",
   "execution_count": 17,
   "metadata": {},
   "outputs": [
    {
     "name": "stdout",
     "output_type": "stream",
     "text": [
      "[{'id': 660271, 'fullName': 'Shohei Ohtani', 'firstName': 'Shohei', 'lastName': 'Ohtani', 'primaryNumber': '17', 'currentTeam': {'id': 108}, 'primaryPosition': {'code': 'Y', 'abbreviation': 'TWP'}, 'useName': 'Shohei', 'boxscoreName': 'Ohtani', 'nickName': 'Showtime', 'mlbDebutDate': '2018-03-29', 'nameFirstLast': 'Shohei Ohtani', 'firstLastName': 'Shohei Ohtani', 'lastFirstName': 'Ohtani, Shohei', 'lastInitName': 'Ohtani, S', 'initLastName': 'S Ohtani', 'fullFMLName': 'Shohei Ohtani', 'fullLFMName': 'Ohtani, Shohei'}]\n"
     ]
    }
   ],
   "source": [
    "player = statsapi.lookup_player('Ohtani')\n",
    "print(player) #assume only 1 record returned for demo purposes"
   ]
  },
  {
   "cell_type": "code",
   "execution_count": 18,
   "metadata": {},
   "outputs": [
    {
     "name": "stdout",
     "output_type": "stream",
     "text": [
      "1\n"
     ]
    }
   ],
   "source": [
    "print(len(player))"
   ]
  },
  {
   "cell_type": "code",
   "execution_count": null,
   "metadata": {},
   "outputs": [],
   "source": []
  }
 ],
 "metadata": {
  "kernelspec": {
   "display_name": ".venv",
   "language": "python",
   "name": "python3"
  },
  "language_info": {
   "codemirror_mode": {
    "name": "ipython",
    "version": 3
   },
   "file_extension": ".py",
   "mimetype": "text/x-python",
   "name": "python",
   "nbconvert_exporter": "python",
   "pygments_lexer": "ipython3",
   "version": "3.11.3"
  },
  "orig_nbformat": 4
 },
 "nbformat": 4,
 "nbformat_minor": 2
}
